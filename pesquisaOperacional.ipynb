{
 "cells": [
  {
   "cell_type": "code",
   "execution_count": null,
   "metadata": {},
   "outputs": [],
   "source": [
    "\n",
    "%pip install pulp pandas openpyxl\n"
   ]
  },
  {
   "cell_type": "code",
   "execution_count": null,
   "metadata": {},
   "outputs": [],
   "source": [
    "import pandas as pd\n",
    "\n",
    "\n",
    "data = pd.read_excel('Teste Pesquisa Operacional - Dados.xlsx')\n",
    "\n",
    "data.info()\n",
    "#df.describe()\n",
    "#df.Item.describe()\n",
    "#df.CaixaId.describe()\n",
    "#df.Peças.describe()"
   ]
  },
  {
   "cell_type": "code",
   "execution_count": null,
   "metadata": {},
   "outputs": [],
   "source": [
    "\n",
    "capacidade_maxima = 2000\n",
    "\n",
    "# Agrupar os itens por caixas\n",
    "caixas_agrupadas = dados.groupby('CaixaId')[['Item', 'Pecas']].apply(lambda x: list(zip(x['Item'], x['Pecas']))).to_dict()\n",
    "\n",
    "\n",
    "\n",
    "ondas = []\n",
    "caixas_nas_ondas = []\n",
    "\n",
    "\n",
    "# (Restrição 5: somatório das peças <= 2000)\n",
    "def pode_adicionar_caixa_na_onda(onda, itens_caixa):\n",
    "    total_pecas = sum([pecas for _, pecas in onda])\n",
    "    pecas_caixa = sum([pecas for _, pecas in itens_caixa])\n",
    "    return (total_pecas + pecas_caixa) <= capacidade_maxima\n",
    "\n",
    "\n",
    "for id_caixa, itens_caixa in caixas_agrupadas.items():\n",
    "    caixa_alocada = False\n",
    "    \n",
    "    # (Restrição 3: só pode alocar se a onda existir)\n",
    "    for id_onda, onda in enumerate(ondas):\n",
    "        if pode_adicionar_caixa_na_onda(onda, itens_caixa): \n",
    "            onda.extend(itens_caixa)  # Aloca a caixa a essa onda (Restrição 2)\n",
    "            caixas_nas_ondas.append({'CaixaId': id_caixa, 'OndaId': id_onda + 1})\n",
    "            caixa_alocada = True\n",
    "            break\n",
    "    \n",
    "    # \n",
    "    if not caixa_alocada:\n",
    "        ondas.append(itens_caixa)  # Cria nova onda (Restrição 4)\n",
    "        caixas_nas_ondas.append({'CaixaId': id_caixa, 'OndaId': len(ondas)})\n",
    "\n",
    "\n",
    "df_resultado = pd.DataFrame(caixas_nas_ondas)\n",
    "caminho_arquivo_saida = 'atribuicao_caixas_nas_ondas.xlsx'\n",
    "df_resultado.to_excel(caminho_arquivo_saida)\n"
   ]
  }
 ],
 "metadata": {
  "kernelspec": {
   "display_name": "Python 3",
   "language": "python",
   "name": "python3"
  },
  "language_info": {
   "codemirror_mode": {
    "name": "ipython",
    "version": 3
   },
   "file_extension": ".py",
   "mimetype": "text/x-python",
   "name": "python",
   "nbconvert_exporter": "python",
   "pygments_lexer": "ipython3",
   "version": "3.12.6"
  }
 },
 "nbformat": 4,
 "nbformat_minor": 2
}
